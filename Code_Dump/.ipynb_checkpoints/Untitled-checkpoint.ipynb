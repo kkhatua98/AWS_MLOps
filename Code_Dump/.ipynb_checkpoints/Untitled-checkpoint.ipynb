{
 "cells": [
  {
   "cell_type": "code",
   "execution_count": 1,
   "id": "d310b60e",
   "metadata": {},
   "outputs": [
    {
     "name": "stdout",
     "output_type": "stream",
     "text": [
      "arn:aws:iam::852619674999:role/service-role/AmazonSageMaker-ExecutionRole-20220427T124311\n",
      "<sagemaker.session.Session object at 0x7f9ae00f0a20>\n"
     ]
    }
   ],
   "source": [
    "import boto3\n",
    "import sagemaker\n",
    "\n",
    "region = boto3.Session().region_name\n",
    "default_bucket = \"demo-bucket-test-mlop\"\n",
    "sagemaker_session = sagemaker.session.Session(default_bucket = default_bucket)\n",
    "role = sagemaker.get_execution_role()\n",
    "\n",
    "print(role)\n",
    "print(sagemaker_session)"
   ]
  },
  {
   "cell_type": "code",
   "execution_count": 2,
   "id": "8fbcc69e",
   "metadata": {},
   "outputs": [
    {
     "name": "stdout",
     "output_type": "stream",
     "text": [
      "s3://demo-bucket-test-mlop/ChurnTrain/20220522-05-23-25\n"
     ]
    }
   ],
   "source": [
    "input_train_data_uri=\"s3://demo-bucket-test-mlop/Churn_Demo/churn-bigml-80.csv\"\n",
    "input_test_data_uri=\"s3://demo-bucket-test-mlop/Churn_Demo/churn-bigml-20.csv\"\n",
    "\n",
    "from time import gmtime, strftime\n",
    "output_path = f\"s3://{default_bucket}/ChurnTrain/\" + strftime(\"%Y%m%d-%H-%M-%S\", gmtime())\n",
    "print(output_path)\n",
    "\n",
    "\n",
    "from sagemaker.workflow.parameters import (\n",
    "    ParameterInteger,\n",
    "    ParameterString,\n",
    ")\n",
    "\n",
    "\n",
    "train_data = ParameterString(name=\"TrainData\", default_value=input_train_data_uri)\n",
    "\n",
    "test_data = ParameterString(name=\"TestData\", default_value=input_test_data_uri)\n",
    "\n",
    "pipeline_output_path = ParameterString(name=\"OutputPath\", default_value=output_path)\n",
    "\n",
    "processing_instance_count = ParameterInteger(name=\"ProcessingInstanceCount\", \n",
    "                                             default_value=1)\n",
    "\n",
    "processing_instance_type = ParameterString(name=\"ProcessingInstanceType\", \n",
    "                                           default_value=\"ml.m5.4xlarge\")\n",
    "\n",
    "training_instance_type = ParameterString(name=\"TrainingInstanceType\",\n",
    "                                         default_value=\"ml.m5.4xlarge\")"
   ]
  },
  {
   "cell_type": "code",
   "execution_count": 3,
   "id": "48fe38cf",
   "metadata": {},
   "outputs": [],
   "source": [
    "from sagemaker.sklearn.processing import SKLearnProcessor\n",
    "\n",
    "framework_version = \"0.23-1\"\n",
    "\n",
    "sklearn_processor = SKLearnProcessor(\n",
    "    framework_version=framework_version,\n",
    "    instance_type=processing_instance_type,\n",
    "    instance_count=processing_instance_count,\n",
    "    base_job_name=\"Churn-Preprocessing\",\n",
    "    role=role\n",
    ")"
   ]
  },
  {
   "cell_type": "code",
   "execution_count": 4,
   "id": "bdac990b",
   "metadata": {},
   "outputs": [],
   "source": [
    "\n",
    "from sagemaker.processing import ProcessingInput, ProcessingOutput\n",
    "from sagemaker.workflow.steps import ProcessingStep, TuningStep\n",
    "    \n",
    "\n",
    "step_process = ProcessingStep(\n",
    "    name=\"Preprocessing-Step\",\n",
    "    processor=sklearn_processor,\n",
    "    inputs=[\n",
    "      ProcessingInput(source=train_data, destination=\"/opt/ml/processing/input\"),  \n",
    "    ],\n",
    "    outputs=[\n",
    "        ProcessingOutput(output_name=\"train\", source=\"/opt/ml/processing/train\"),\n",
    "        ProcessingOutput(output_name=\"validation\", source=\"/opt/ml/processing/validation\"),\n",
    "        ProcessingOutput(output_name=\"test\", source=\"/opt/ml/processing/test\")\n",
    "    ],\n",
    "    code=\"SageMaker_Pipeline_Component_Codes/Preprocessing.py\",\n",
    ")\n",
    "\n"
   ]
  },
  {
   "cell_type": "code",
   "execution_count": 5,
   "id": "f44c5f7a",
   "metadata": {},
   "outputs": [],
   "source": [
    "from sagemaker.sklearn import SKLearn\n",
    "sklearn_estimator_lr = SKLearn('SageMaker_Pipeline_Component_Codes/Logistic_Regression_Training.py',\n",
    "                            dependencies = [\"Requirements/training_requirements.txt\"],\n",
    "                            instance_type='ml.m4.xlarge',\n",
    "                            framework_version='0.20.0',\n",
    "                            role = role,\n",
    "                            output_path = pipeline_output_path\n",
    "                            # hyperparameters = {'max_depth': 3, 'random_state': 1}\n",
    "                           )"
   ]
  },
  {
   "cell_type": "code",
   "execution_count": 6,
   "id": "dd9e38c4",
   "metadata": {},
   "outputs": [],
   "source": [
    "from sagemaker.tuner import (\n",
    "    ContinuousParameter,\n",
    "    IntegerParameter,\n",
    "    CategoricalParameter,\n",
    "    HyperparameterTuner,\n",
    "    WarmStartConfig,\n",
    "    WarmStartTypes\n",
    ")\n",
    "\n",
    "    \n",
    "objective_metric_name_lr = \"accuracy\"\n",
    "metric_definitions_lr = [{\"Name\": \"accuracy\", \"Regex\": \"accuracy:([0-9\\\\.]+)\"}]\n",
    "hyperparameter_ranges_lr = {\n",
    "    \"penalty\": CategoricalParameter(['l1','l2']),\n",
    "    \"C\": ContinuousParameter(min_value = 0.001, max_value = 1000.0, scaling_type = \"Logarithmic\"),\n",
    "    \"solver\": CategoricalParameter([\"liblinear\", \"newton-cg\", \"lbfgs\", \"sag\", \"saga\"])\n",
    "}\n",
    "\n",
    "tuner_log_lr = HyperparameterTuner(\n",
    "    sklearn_estimator_lr,\n",
    "    objective_metric_name_lr,\n",
    "    hyperparameter_ranges_lr,\n",
    "    metric_definitions_lr,\n",
    "    max_jobs=4,\n",
    "    max_parallel_jobs=4,\n",
    "    strategy=\"Random\"\n",
    ")\n",
    "\n",
    "\n",
    "\n",
    "from sagemaker.inputs import TrainingInput\n",
    "\n",
    "\n",
    "step_tuning_lr = TuningStep(\n",
    "    name=\"HPTuning-Logistic-Regression\",\n",
    "    tuner=tuner_log_lr,\n",
    "    inputs={\n",
    "        \"train\": TrainingInput(\n",
    "            s3_data=step_process.properties.ProcessingOutputConfig.Outputs[\"train\"].S3Output.S3Uri,\n",
    "            content_type=\"text/csv\",\n",
    "        ),\n",
    "        \"test\": TrainingInput(\n",
    "            s3_data=step_process.properties.ProcessingOutputConfig.Outputs[\n",
    "                \"test\"\n",
    "            ].S3Output.S3Uri,\n",
    "            content_type=\"text/csv\",\n",
    "        ),\n",
    "    }\n",
    ")"
   ]
  },
  {
   "cell_type": "code",
   "execution_count": 7,
   "id": "dbd9a075",
   "metadata": {},
   "outputs": [],
   "source": [
    "sklearn_estimator_dt = SKLearn('SageMaker_Pipeline_Component_Codes/DecisionTree_Training.py',\n",
    "                            dependencies = [\"Requirements/training_requirements.txt\"],\n",
    "                            instance_type='ml.m4.xlarge',\n",
    "                            framework_version='0.20.0',\n",
    "                            role = role,\n",
    "                            output_path = pipeline_output_path,\n",
    "                            hyperparameters = {'max_depth': 3, 'random_state': 1}\n",
    "                           )"
   ]
  },
  {
   "cell_type": "code",
   "execution_count": 8,
   "id": "ec4e10d8",
   "metadata": {},
   "outputs": [],
   "source": [
    "\n",
    "objective_metric_name_dt = \"accuracy\"\n",
    "metric_definitions_dt = [{\"Name\": \"accuracy\", \"Regex\": \"accuracy:([0-9\\\\.]+)\"}]\n",
    "hyperparameter_ranges_dt = {\n",
    "    \"criterion\": CategoricalParameter(['gini', 'entropy']),\n",
    "    \"max_depth\": IntegerParameter(min_value = 2, max_value = 12),\n",
    "    \"min_samples_leaf\": IntegerParameter(min_value = 1, max_value = 5)\n",
    "}\n",
    "\n",
    "tuner_log_dt = HyperparameterTuner(\n",
    "    sklearn_estimator_dt,\n",
    "    objective_metric_name_dt,\n",
    "    hyperparameter_ranges_dt,\n",
    "    metric_definitions_dt,\n",
    "    max_jobs=5,\n",
    "    max_parallel_jobs=5,\n",
    "    strategy=\"Random\"\n",
    ")\n",
    "\n",
    "\n",
    "\n",
    "from sagemaker.inputs import TrainingInput\n",
    "\n",
    "\n",
    "step_tuning_dt = TuningStep(\n",
    "    name=\"Iris-HPTuning-DT\",\n",
    "    tuner=tuner_log_dt,\n",
    "    inputs={\n",
    "        \"train\": TrainingInput(\n",
    "            s3_data=step_process.properties.ProcessingOutputConfig.Outputs[\"train\"].S3Output.S3Uri,\n",
    "            content_type=\"text/csv\",\n",
    "        ),\n",
    "        \"test\": TrainingInput(\n",
    "            s3_data=step_process.properties.ProcessingOutputConfig.Outputs[\n",
    "                \"test\"\n",
    "            ].S3Output.S3Uri,\n",
    "            content_type=\"text/csv\",\n",
    "        ),\n",
    "    }\n",
    ")\n"
   ]
  },
  {
   "cell_type": "code",
   "execution_count": 9,
   "id": "f9f3a857",
   "metadata": {},
   "outputs": [
    {
     "data": {
      "text/plain": [
       "{'PipelineArn': 'arn:aws:sagemaker:us-east-1:852619674999:pipeline/churn-demo',\n",
       " 'ResponseMetadata': {'RequestId': 'bd5a036d-085a-457f-898d-c12fdfa69cdb',\n",
       "  'HTTPStatusCode': 200,\n",
       "  'HTTPHeaders': {'x-amzn-requestid': 'bd5a036d-085a-457f-898d-c12fdfa69cdb',\n",
       "   'content-type': 'application/x-amz-json-1.1',\n",
       "   'content-length': '78',\n",
       "   'date': 'Sun, 22 May 2022 05:23:45 GMT'},\n",
       "  'RetryAttempts': 0}}"
      ]
     },
     "execution_count": 9,
     "metadata": {},
     "output_type": "execute_result"
    }
   ],
   "source": [
    "from sagemaker.workflow.pipeline import Pipeline\n",
    "\n",
    "\n",
    "# pipeline_name = f\"AbalonePipeline\"\n",
    "pipeline_name = f\"Churn-Demo\"\n",
    "pipeline = Pipeline(\n",
    "    name=pipeline_name,\n",
    "    parameters=[\n",
    "        train_data,\n",
    "        test_data,\n",
    "        pipeline_output_path,\n",
    "        processing_instance_count,\n",
    "        processing_instance_type,\n",
    "        training_instance_type\n",
    "    ],\n",
    "    steps=[step_process, step_tuning_lr, step_tuning_dt],\n",
    ")\n",
    "\n",
    "pipeline.upsert(role_arn=role)"
   ]
  },
  {
   "cell_type": "code",
   "execution_count": 10,
   "id": "e8a781ab",
   "metadata": {},
   "outputs": [
    {
     "data": {
      "text/plain": [
       "_PipelineExecution(arn='arn:aws:sagemaker:us-east-1:852619674999:pipeline/churn-demo/execution/fk3cfumvpy25', sagemaker_session=<sagemaker.session.Session object at 0x7f9ab33399b0>)"
      ]
     },
     "execution_count": 10,
     "metadata": {},
     "output_type": "execute_result"
    }
   ],
   "source": [
    "pipeline.start()"
   ]
  },
  {
   "cell_type": "code",
   "execution_count": null,
   "id": "6becfb46",
   "metadata": {},
   "outputs": [],
   "source": []
  },
  {
   "cell_type": "code",
   "execution_count": null,
   "id": "93b7543e",
   "metadata": {},
   "outputs": [],
   "source": []
  },
  {
   "cell_type": "code",
   "execution_count": null,
   "id": "790f01a0",
   "metadata": {},
   "outputs": [],
   "source": []
  },
  {
   "cell_type": "code",
   "execution_count": 2,
   "id": "adabdecd",
   "metadata": {},
   "outputs": [],
   "source": [
    "import pandas"
   ]
  },
  {
   "cell_type": "code",
   "execution_count": 17,
   "id": "3c641292",
   "metadata": {},
   "outputs": [],
   "source": [
    "a = pandas.DataFrame({'A':[1,2,3,4], 'B':['A','B','C','D'], 'C':[9,10,11,12], 'D':[\"E\", 'F', 'G',None]})"
   ]
  },
  {
   "cell_type": "code",
   "execution_count": 9,
   "id": "c1a78895",
   "metadata": {},
   "outputs": [
    {
     "data": {
      "text/html": [
       "<div>\n",
       "<style scoped>\n",
       "    .dataframe tbody tr th:only-of-type {\n",
       "        vertical-align: middle;\n",
       "    }\n",
       "\n",
       "    .dataframe tbody tr th {\n",
       "        vertical-align: top;\n",
       "    }\n",
       "\n",
       "    .dataframe thead th {\n",
       "        text-align: right;\n",
       "    }\n",
       "</style>\n",
       "<table border=\"1\" class=\"dataframe\">\n",
       "  <thead>\n",
       "    <tr style=\"text-align: right;\">\n",
       "      <th></th>\n",
       "      <th>A</th>\n",
       "      <th>B</th>\n",
       "      <th>C</th>\n",
       "    </tr>\n",
       "  </thead>\n",
       "  <tbody>\n",
       "    <tr>\n",
       "      <th>0</th>\n",
       "      <td>1</td>\n",
       "      <td>A</td>\n",
       "      <td>9</td>\n",
       "    </tr>\n",
       "    <tr>\n",
       "      <th>1</th>\n",
       "      <td>2</td>\n",
       "      <td>B</td>\n",
       "      <td>10</td>\n",
       "    </tr>\n",
       "    <tr>\n",
       "      <th>2</th>\n",
       "      <td>3</td>\n",
       "      <td>C</td>\n",
       "      <td>11</td>\n",
       "    </tr>\n",
       "    <tr>\n",
       "      <th>3</th>\n",
       "      <td>4</td>\n",
       "      <td>D</td>\n",
       "      <td>12</td>\n",
       "    </tr>\n",
       "  </tbody>\n",
       "</table>\n",
       "</div>"
      ],
      "text/plain": [
       "   A  B   C\n",
       "0  1  A   9\n",
       "1  2  B  10\n",
       "2  3  C  11\n",
       "3  4  D  12"
      ]
     },
     "execution_count": 9,
     "metadata": {},
     "output_type": "execute_result"
    }
   ],
   "source": [
    "a"
   ]
  },
  {
   "cell_type": "code",
   "execution_count": 10,
   "id": "b8306f64",
   "metadata": {},
   "outputs": [],
   "source": [
    "from sklearn.preprocessing import MinMaxScaler\n",
    "scaler = MinMaxScaler()\n",
    "numeric_feats = list(a.select_dtypes('number').columns)\n",
    "model=scaler.fit(a[numeric_feats])\n",
    "a[numeric_feats]=model.transform(a[numeric_feats])"
   ]
  },
  {
   "cell_type": "code",
   "execution_count": 11,
   "id": "21f5d07a",
   "metadata": {},
   "outputs": [
    {
     "data": {
      "text/html": [
       "<div>\n",
       "<style scoped>\n",
       "    .dataframe tbody tr th:only-of-type {\n",
       "        vertical-align: middle;\n",
       "    }\n",
       "\n",
       "    .dataframe tbody tr th {\n",
       "        vertical-align: top;\n",
       "    }\n",
       "\n",
       "    .dataframe thead th {\n",
       "        text-align: right;\n",
       "    }\n",
       "</style>\n",
       "<table border=\"1\" class=\"dataframe\">\n",
       "  <thead>\n",
       "    <tr style=\"text-align: right;\">\n",
       "      <th></th>\n",
       "      <th>A</th>\n",
       "      <th>B</th>\n",
       "      <th>C</th>\n",
       "    </tr>\n",
       "  </thead>\n",
       "  <tbody>\n",
       "    <tr>\n",
       "      <th>0</th>\n",
       "      <td>0.000000</td>\n",
       "      <td>A</td>\n",
       "      <td>0.000000</td>\n",
       "    </tr>\n",
       "    <tr>\n",
       "      <th>1</th>\n",
       "      <td>0.333333</td>\n",
       "      <td>B</td>\n",
       "      <td>0.333333</td>\n",
       "    </tr>\n",
       "    <tr>\n",
       "      <th>2</th>\n",
       "      <td>0.666667</td>\n",
       "      <td>C</td>\n",
       "      <td>0.666667</td>\n",
       "    </tr>\n",
       "    <tr>\n",
       "      <th>3</th>\n",
       "      <td>1.000000</td>\n",
       "      <td>D</td>\n",
       "      <td>1.000000</td>\n",
       "    </tr>\n",
       "  </tbody>\n",
       "</table>\n",
       "</div>"
      ],
      "text/plain": [
       "          A  B         C\n",
       "0  0.000000  A  0.000000\n",
       "1  0.333333  B  0.333333\n",
       "2  0.666667  C  0.666667\n",
       "3  1.000000  D  1.000000"
      ]
     },
     "execution_count": 11,
     "metadata": {},
     "output_type": "execute_result"
    }
   ],
   "source": [
    "a"
   ]
  },
  {
   "cell_type": "code",
   "execution_count": 19,
   "id": "54acd4ee",
   "metadata": {},
   "outputs": [
    {
     "data": {
      "text/html": [
       "<div>\n",
       "<style scoped>\n",
       "    .dataframe tbody tr th:only-of-type {\n",
       "        vertical-align: middle;\n",
       "    }\n",
       "\n",
       "    .dataframe tbody tr th {\n",
       "        vertical-align: top;\n",
       "    }\n",
       "\n",
       "    .dataframe thead th {\n",
       "        text-align: right;\n",
       "    }\n",
       "</style>\n",
       "<table border=\"1\" class=\"dataframe\">\n",
       "  <thead>\n",
       "    <tr style=\"text-align: right;\">\n",
       "      <th></th>\n",
       "      <th>A</th>\n",
       "      <th>B</th>\n",
       "      <th>C</th>\n",
       "      <th>D</th>\n",
       "    </tr>\n",
       "  </thead>\n",
       "  <tbody>\n",
       "    <tr>\n",
       "      <th>0</th>\n",
       "      <td>1</td>\n",
       "      <td>A</td>\n",
       "      <td>9</td>\n",
       "      <td>E</td>\n",
       "    </tr>\n",
       "    <tr>\n",
       "      <th>1</th>\n",
       "      <td>2</td>\n",
       "      <td>B</td>\n",
       "      <td>10</td>\n",
       "      <td>F</td>\n",
       "    </tr>\n",
       "    <tr>\n",
       "      <th>2</th>\n",
       "      <td>3</td>\n",
       "      <td>C</td>\n",
       "      <td>11</td>\n",
       "      <td>G</td>\n",
       "    </tr>\n",
       "    <tr>\n",
       "      <th>3</th>\n",
       "      <td>4</td>\n",
       "      <td>D</td>\n",
       "      <td>12</td>\n",
       "      <td>None</td>\n",
       "    </tr>\n",
       "  </tbody>\n",
       "</table>\n",
       "</div>"
      ],
      "text/plain": [
       "   A  B   C     D\n",
       "0  1  A   9     E\n",
       "1  2  B  10     F\n",
       "2  3  C  11     G\n",
       "3  4  D  12  None"
      ]
     },
     "execution_count": 19,
     "metadata": {},
     "output_type": "execute_result"
    }
   ],
   "source": [
    "a"
   ]
  },
  {
   "cell_type": "code",
   "execution_count": 20,
   "id": "f8719884",
   "metadata": {},
   "outputs": [
    {
     "data": {
      "text/html": [
       "<div>\n",
       "<style scoped>\n",
       "    .dataframe tbody tr th:only-of-type {\n",
       "        vertical-align: middle;\n",
       "    }\n",
       "\n",
       "    .dataframe tbody tr th {\n",
       "        vertical-align: top;\n",
       "    }\n",
       "\n",
       "    .dataframe thead th {\n",
       "        text-align: right;\n",
       "    }\n",
       "</style>\n",
       "<table border=\"1\" class=\"dataframe\">\n",
       "  <thead>\n",
       "    <tr style=\"text-align: right;\">\n",
       "      <th></th>\n",
       "      <th>A</th>\n",
       "      <th>C</th>\n",
       "      <th>B_B</th>\n",
       "      <th>B_C</th>\n",
       "      <th>B_D</th>\n",
       "      <th>D_F</th>\n",
       "      <th>D_G</th>\n",
       "    </tr>\n",
       "  </thead>\n",
       "  <tbody>\n",
       "    <tr>\n",
       "      <th>0</th>\n",
       "      <td>1</td>\n",
       "      <td>9</td>\n",
       "      <td>0</td>\n",
       "      <td>0</td>\n",
       "      <td>0</td>\n",
       "      <td>0</td>\n",
       "      <td>0</td>\n",
       "    </tr>\n",
       "    <tr>\n",
       "      <th>1</th>\n",
       "      <td>2</td>\n",
       "      <td>10</td>\n",
       "      <td>1</td>\n",
       "      <td>0</td>\n",
       "      <td>0</td>\n",
       "      <td>1</td>\n",
       "      <td>0</td>\n",
       "    </tr>\n",
       "    <tr>\n",
       "      <th>2</th>\n",
       "      <td>3</td>\n",
       "      <td>11</td>\n",
       "      <td>0</td>\n",
       "      <td>1</td>\n",
       "      <td>0</td>\n",
       "      <td>0</td>\n",
       "      <td>1</td>\n",
       "    </tr>\n",
       "    <tr>\n",
       "      <th>3</th>\n",
       "      <td>4</td>\n",
       "      <td>12</td>\n",
       "      <td>0</td>\n",
       "      <td>0</td>\n",
       "      <td>1</td>\n",
       "      <td>0</td>\n",
       "      <td>0</td>\n",
       "    </tr>\n",
       "  </tbody>\n",
       "</table>\n",
       "</div>"
      ],
      "text/plain": [
       "   A   C  B_B  B_C  B_D  D_F  D_G\n",
       "0  1   9    0    0    0    0    0\n",
       "1  2  10    1    0    0    1    0\n",
       "2  3  11    0    1    0    0    1\n",
       "3  4  12    0    0    1    0    0"
      ]
     },
     "execution_count": 20,
     "metadata": {},
     "output_type": "execute_result"
    }
   ],
   "source": [
    "pandas.get_dummies(a, columns = ['B', 'D'], drop_first = True)"
   ]
  },
  {
   "cell_type": "code",
   "execution_count": null,
   "id": "73f40036",
   "metadata": {},
   "outputs": [],
   "source": []
  }
 ],
 "metadata": {
  "kernelspec": {
   "display_name": "conda_python3",
   "language": "python",
   "name": "conda_python3"
  },
  "language_info": {
   "codemirror_mode": {
    "name": "ipython",
    "version": 3
   },
   "file_extension": ".py",
   "mimetype": "text/x-python",
   "name": "python",
   "nbconvert_exporter": "python",
   "pygments_lexer": "ipython3",
   "version": "3.6.13"
  }
 },
 "nbformat": 4,
 "nbformat_minor": 5
}
